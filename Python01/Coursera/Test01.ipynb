{
 "cells": [
  {
   "cell_type": "code",
   "execution_count": null,
   "metadata": {},
   "outputs": [],
   "source": [
    "salary=0\n",
    "def BetterVersion(a,b)\n",
    " global salary\n",
    " trial=salary\n",
    " num1=trial+a\n",
    " num2=trial+b\n",
    " len1=len(num1)\n",
    " len2=len(num2)\n",
    " if(len1>len2):\n",
    "     num1=int(num1[:len1])\n",
    "     num2=int(num2)\n",
    "     if(num2>num1):\n",
    "        return b\n",
    "    else:\n",
    "        return a\n",
    "else:\n",
    "    num2=int(num2[:len2])\n",
    "    num1=int(num1)\n",
    "    if(num2>num1):\n",
    "        return b\n",
    "    else:\n",
    "        return a\n",
    "digits=input().split()\n",
    "Idig=list(map(int,digits))\n",
    "Idig=sorted(Idig)\n",
    "number=0\n",
    "for i in range(0,len(digits)):\n",
    "    \n",
    "    \n",
    "\n"
   ]
  },
  {
   "cell_type": "code",
   "execution_count": 5,
   "metadata": {},
   "outputs": [
    {
     "output_type": "stream",
     "name": "stdout",
     "text": "Maximum value in Knapsack = 240.0\n"
    }
   ],
   "source": [
    "class ItemValue: \n",
    "      \n",
    "    \"\"\"Item Value DataClass\"\"\"\n",
    "    def __init__(self, wt, val, ind): \n",
    "        self.wt = wt \n",
    "        self.val = val \n",
    "        self.ind = ind \n",
    "        self.cost = val // wt \n",
    "  \n",
    "    def __lt__(self, other): \n",
    "        return self.cost < other.cost \n",
    "  \n",
    "# Greedy Approach \n",
    "class FractionalKnapSack: \n",
    "      \n",
    "    \"\"\"Time Complexity O(n log n)\"\"\"\n",
    "    @staticmethod\n",
    "    def getMaxValue(wt, val, capacity): \n",
    "          \n",
    "        \"\"\"function to get maximum value \"\"\"\n",
    "        iVal = [] \n",
    "        for i in range(len(wt)): \n",
    "            iVal.append(ItemValue(wt[i], val[i], i)) \n",
    "        # sorting items by value \n",
    "        iVal.sort(reverse = True) \n",
    "  \n",
    "        totalValue = 0\n",
    "        for i in iVal: \n",
    "            curWt = int(i.wt) \n",
    "            curVal = int(i.val) \n",
    "            if capacity - curWt >= 0: \n",
    "                capacity -= curWt \n",
    "                totalValue += curVal \n",
    "            else: \n",
    "                fraction = capacity / curWt \n",
    "                totalValue += curVal * fraction \n",
    "                capacity = int(capacity - (curWt * fraction)) \n",
    "                break\n",
    "        return totalValue \n",
    "  \n",
    "# Driver Code \n",
    "if __name__ == \"__main__\": \n",
    "    wt = [10, 40, 20, 30] \n",
    "    val = [60, 40, 100, 120] \n",
    "    capacity = 50\n",
    "    maxValue = FractionalKnapSack.getMaxValue(wt, val, capacity) \n",
    "    print(\"Maximum value in Knapsack =\", maxValue) "
   ]
  },
  {
   "cell_type": "code",
   "execution_count": null,
   "metadata": {},
   "outputs": [],
   "source": []
  }
 ],
 "metadata": {
  "language_info": {
   "codemirror_mode": {
    "name": "ipython",
    "version": 3
   },
   "file_extension": ".py",
   "mimetype": "text/x-python",
   "name": "python",
   "nbconvert_exporter": "python",
   "pygments_lexer": "ipython3",
   "version": "3.8.3-final"
  },
  "orig_nbformat": 2,
  "kernelspec": {
   "name": "python38364bit8e95d67046f3482c91c381d40d61e16c",
   "display_name": "Python 3.8.3 64-bit"
  }
 },
 "nbformat": 4,
 "nbformat_minor": 2
}